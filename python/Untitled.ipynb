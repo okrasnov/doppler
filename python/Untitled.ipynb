{
 "cells": [
  {
   "cell_type": "markdown",
   "id": "hollywood-amazon",
   "metadata": {},
   "source": [
    "## Doppler spectrum of conjugate signal\n",
    "\n",
    "$sig(t) = A e^{j \\Phi(t)}, \\quad$ \n",
    "$sig_a(t) = A e^{-j \\Phi(t)}$"
   ]
  },
  {
   "cell_type": "code",
   "execution_count": 4,
   "id": "pharmaceutical-contrary",
   "metadata": {},
   "outputs": [],
   "source": [
    "import numpy as np\n",
    "from matplotlib import pyplot as plt\n",
    "%matplotlib inline"
   ]
  },
  {
   "cell_type": "code",
   "execution_count": null,
   "id": "great-upper",
   "metadata": {},
   "outputs": [],
   "source": []
  }
 ],
 "metadata": {
  "kernelspec": {
   "display_name": "Python 3",
   "language": "python",
   "name": "python3"
  },
  "language_info": {
   "codemirror_mode": {
    "name": "ipython",
    "version": 3
   },
   "file_extension": ".py",
   "mimetype": "text/x-python",
   "name": "python",
   "nbconvert_exporter": "python",
   "pygments_lexer": "ipython3",
   "version": "3.9.1"
  }
 },
 "nbformat": 4,
 "nbformat_minor": 5
}
