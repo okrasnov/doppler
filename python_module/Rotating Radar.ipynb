{
 "cells": [
  {
   "cell_type": "code",
   "execution_count": 7,
   "id": "current-danger",
   "metadata": {},
   "outputs": [
    {
     "data": {
      "text/html": [
       "        <script type=\"text/javascript\">\n",
       "        window.PlotlyConfig = {MathJaxConfig: 'local'};\n",
       "        if (window.MathJax) {MathJax.Hub.Config({SVG: {font: \"STIX-Web\"}});}\n",
       "        if (typeof require !== 'undefined') {\n",
       "        require.undef(\"plotly\");\n",
       "        requirejs.config({\n",
       "            paths: {\n",
       "                'plotly': ['https://cdn.plot.ly/plotly-latest.min']\n",
       "            }\n",
       "        });\n",
       "        require(['plotly'], function(Plotly) {\n",
       "            window._Plotly = Plotly;\n",
       "        });\n",
       "        }\n",
       "        </script>\n",
       "        "
      ]
     },
     "metadata": {},
     "output_type": "display_data"
    }
   ],
   "source": [
    "%config Completer.use_jedi = False\n",
    "init_notebook_mode(connected=True)"
   ]
  },
  {
   "cell_type": "code",
   "execution_count": 9,
   "id": "assigned-lesson",
   "metadata": {},
   "outputs": [],
   "source": [
    "import numpy as np\n",
    "from plotly.offline import plot, iplot, init_notebook_mode\n",
    "from scipy.fftpack import fft, fftshift, ifft"
   ]
  },
  {
   "cell_type": "code",
   "execution_count": 162,
   "id": "straight-dominant",
   "metadata": {},
   "outputs": [],
   "source": [
    "def DS_simulatorV2(SNR, m0, mu, sigma, n, v_amb, N):\n",
    "    '''This is the code for the time domain (slow time) form of a Gaussian shaped velocity spectrum for weather radars.\n",
    "    This function produces a high definition (HD) frequency domain signal (with n points) internally and based on the\n",
    "    number of sweeps available physically (N) for a weather radar, it down-samples the HD spectrum using \n",
    "    the area under the curve principles so that the power of the spectrum is conserved. It returns the time domain \n",
    "    variant of the N point frequency domain Gaussian spectrum. It is usually referred to as the slow time domain\n",
    "    signal for Doppler processing.\n",
    "    \n",
    "    \n",
    "    Input: \n",
    "    SNR in linear scale (SNR), \n",
    "    zeroth moment of the Gaussian spectrum (m0), \n",
    "    Mean velocity (mu),\n",
    "    Doppler Spectrum Width (sigma), \n",
    "    Number of points on velocity axis (n, usually high resolution like 512 or 1024),\n",
    "    Maximum unambiguous velocity (v_amb), \n",
    "    Number of points needed in the output of the velocity spectrum (N). \n",
    "    \n",
    "    Output: \n",
    "    Time domain data with N points (N should be less than n) (data), \n",
    "    N point frequency domain Gaussian velocity amplitude spectrum (data_f), \n",
    "    n point HD amplitude Gaussian spectrum (data_f_full), \n",
    "    time domian variant of the HD Gaussian spectrum with n points (data_full). \n",
    "    \n",
    "    '''\n",
    "    \n",
    "    axis = np.linspace(-n/2, n/2-1, n)/n\n",
    "    vel_axis = 2 * v_amb * axis\n",
    "    \n",
    "    dv = vel_axis[1] - vel_axis[0]\n",
    "    \n",
    "    X_full = np.random.uniform(0, 1, size=(1, n))\n",
    "    Theta_full = 2 * np.pi * np.random.uniform(0, 1, size=(1, n))\n",
    "    \n",
    "    S_ = m0/np.sqrt(2 * np.pi * sigma ** 2) * np.exp(-(vel_axis - mu) ** 2 / (2 * sigma ** 2))\n",
    "    \n",
    "    Noise_full = np.sum(S_) / (n * SNR)\n",
    "    \n",
    "    P_full = -(S_ + Noise_full) * np.log(X_full)\n",
    "    \n",
    "    data_f_full = np.sqrt(P_full) * np.exp(1j * Theta_full)\n",
    "    \n",
    "    data_full = ifft(fftshift(np.sqrt(n) * data_f_full))\n",
    "                     \n",
    "    axis_permitted = np.linspace(-N/2, N/2-1, N)/N\n",
    "    vel_axis_permitted = 2 * v_amb * axis_permitted\n",
    "    \n",
    "    idx = np.array(np.zeros(N))\n",
    "    \n",
    "    for i in range(N):\n",
    "        idx[i] = (np.abs(vel_axis - vel_axis_permitted[i])).argmin()\n",
    "        \n",
    "    idx_for_integral = np.round(np.mean([idx[0:-1], idx[1:]], axis = 0))\n",
    "    idx_for_integral = np.append(idx_for_integral, idx[-1])\n",
    "    idx_for_integral = np.insert(idx_for_integral, 0, idx[0])\n",
    "    \n",
    "\n",
    "    \n",
    "    idx_for_integral = idx_for_integral.astype(int)\n",
    "    \n",
    "    #print(np.size(idx_for_integral))\n",
    "    S = np.array(np.zeros(N))\n",
    "    \n",
    "    for k in range(N):\n",
    "        num = idx_for_integral[k + 1] - idx_for_integral[k] + 1\n",
    "        S[k] = np.sum(S_[idx_for_integral[k]:idx_for_integral[k + 1]] * dv)/(num * dv)\n",
    "                     \n",
    "    idxn = np.linspace(0, n-1, n)\n",
    "    idxN = np.linspace(np.min(idxn), np.max(idxn), N)\n",
    "    \n",
    "    print(np.size(idxn))\n",
    "    print(np.size(idxN))\n",
    "    print(np.size(X_full))\n",
    "    X = np.array(np.zeros(N))\n",
    "    X = np.interp(idxN, idxn, X_full)\n",
    "    Theta = np.array(np.zeros(N))\n",
    "    Theta = np.interp(idxN, idxn, Theta_full)\n",
    "    Noise = np.sum(S)/(N * SNR)\n",
    "    \n",
    "    P = -(S + Noise) * np.log(X)\n",
    "    data_f = np.sqrt(P) * np.exp(1j * Theta)\n",
    "    data = ifft(fftshift(np.sqrt(N) * data_f))\n",
    "    \n",
    "    return(data, data_f, data_f_full, data_full, X_full, Theta_full)"
   ]
  },
  {
   "cell_type": "code",
   "execution_count": 163,
   "id": "hollywood-relations",
   "metadata": {},
   "outputs": [
    {
     "name": "stdout",
     "output_type": "stream",
     "text": [
      "1024\n",
      "128\n",
      "1024\n"
     ]
    },
    {
     "ename": "ValueError",
     "evalue": "object too deep for desired array",
     "output_type": "error",
     "traceback": [
      "\u001b[0;31m---------------------------------------------------------------------------\u001b[0m",
      "\u001b[0;31mValueError\u001b[0m                                Traceback (most recent call last)",
      "\u001b[0;32m<ipython-input-163-27be54010d90>\u001b[0m in \u001b[0;36m<module>\u001b[0;34m\u001b[0m\n\u001b[1;32m      7\u001b[0m \u001b[0mN\u001b[0m \u001b[0;34m=\u001b[0m \u001b[0;36m128\u001b[0m\u001b[0;34m\u001b[0m\u001b[0;34m\u001b[0m\u001b[0m\n\u001b[1;32m      8\u001b[0m \u001b[0;34m\u001b[0m\u001b[0m\n\u001b[0;32m----> 9\u001b[0;31m \u001b[0;34m[\u001b[0m\u001b[0mdata\u001b[0m\u001b[0;34m,\u001b[0m \u001b[0mdata_f\u001b[0m\u001b[0;34m,\u001b[0m \u001b[0mdata_f_full\u001b[0m\u001b[0;34m,\u001b[0m \u001b[0mdata_full\u001b[0m\u001b[0;34m,\u001b[0m \u001b[0mX_full\u001b[0m\u001b[0;34m,\u001b[0m \u001b[0mTheta_full\u001b[0m\u001b[0;34m]\u001b[0m \u001b[0;34m=\u001b[0m \u001b[0mDS_simulatorV2\u001b[0m\u001b[0;34m(\u001b[0m\u001b[0mSNR\u001b[0m\u001b[0;34m,\u001b[0m \u001b[0mm0\u001b[0m\u001b[0;34m,\u001b[0m \u001b[0mmu\u001b[0m\u001b[0;34m,\u001b[0m \u001b[0msigma\u001b[0m\u001b[0;34m,\u001b[0m \u001b[0mn\u001b[0m\u001b[0;34m,\u001b[0m \u001b[0mv_amb\u001b[0m\u001b[0;34m,\u001b[0m \u001b[0mN\u001b[0m\u001b[0;34m)\u001b[0m\u001b[0;34m\u001b[0m\u001b[0;34m\u001b[0m\u001b[0m\n\u001b[0m",
      "\u001b[0;32m<ipython-input-162-1dbefcd58ddb>\u001b[0m in \u001b[0;36mDS_simulatorV2\u001b[0;34m(SNR, m0, mu, sigma, n, v_amb, N)\u001b[0m\n\u001b[1;32m     73\u001b[0m     \u001b[0mprint\u001b[0m\u001b[0;34m(\u001b[0m\u001b[0mnp\u001b[0m\u001b[0;34m.\u001b[0m\u001b[0msize\u001b[0m\u001b[0;34m(\u001b[0m\u001b[0mX_full\u001b[0m\u001b[0;34m)\u001b[0m\u001b[0;34m)\u001b[0m\u001b[0;34m\u001b[0m\u001b[0;34m\u001b[0m\u001b[0m\n\u001b[1;32m     74\u001b[0m     \u001b[0mX\u001b[0m \u001b[0;34m=\u001b[0m \u001b[0mnp\u001b[0m\u001b[0;34m.\u001b[0m\u001b[0marray\u001b[0m\u001b[0;34m(\u001b[0m\u001b[0mnp\u001b[0m\u001b[0;34m.\u001b[0m\u001b[0mzeros\u001b[0m\u001b[0;34m(\u001b[0m\u001b[0mN\u001b[0m\u001b[0;34m)\u001b[0m\u001b[0;34m)\u001b[0m\u001b[0;34m\u001b[0m\u001b[0;34m\u001b[0m\u001b[0m\n\u001b[0;32m---> 75\u001b[0;31m     \u001b[0mX\u001b[0m \u001b[0;34m=\u001b[0m \u001b[0mnp\u001b[0m\u001b[0;34m.\u001b[0m\u001b[0minterp\u001b[0m\u001b[0;34m(\u001b[0m\u001b[0midxN\u001b[0m\u001b[0;34m,\u001b[0m \u001b[0midxn\u001b[0m\u001b[0;34m,\u001b[0m \u001b[0mX_full\u001b[0m\u001b[0;34m)\u001b[0m\u001b[0;34m\u001b[0m\u001b[0;34m\u001b[0m\u001b[0m\n\u001b[0m\u001b[1;32m     76\u001b[0m     \u001b[0mTheta\u001b[0m \u001b[0;34m=\u001b[0m \u001b[0mnp\u001b[0m\u001b[0;34m.\u001b[0m\u001b[0marray\u001b[0m\u001b[0;34m(\u001b[0m\u001b[0mnp\u001b[0m\u001b[0;34m.\u001b[0m\u001b[0mzeros\u001b[0m\u001b[0;34m(\u001b[0m\u001b[0mN\u001b[0m\u001b[0;34m)\u001b[0m\u001b[0;34m)\u001b[0m\u001b[0;34m\u001b[0m\u001b[0;34m\u001b[0m\u001b[0m\n\u001b[1;32m     77\u001b[0m     \u001b[0mTheta\u001b[0m \u001b[0;34m=\u001b[0m \u001b[0mnp\u001b[0m\u001b[0;34m.\u001b[0m\u001b[0minterp\u001b[0m\u001b[0;34m(\u001b[0m\u001b[0midxN\u001b[0m\u001b[0;34m,\u001b[0m \u001b[0midxn\u001b[0m\u001b[0;34m,\u001b[0m \u001b[0mTheta_full\u001b[0m\u001b[0;34m)\u001b[0m\u001b[0;34m\u001b[0m\u001b[0;34m\u001b[0m\u001b[0m\n",
      "\u001b[0;32m<__array_function__ internals>\u001b[0m in \u001b[0;36minterp\u001b[0;34m(*args, **kwargs)\u001b[0m\n",
      "\u001b[0;32m/usr/local/lib/python3.9/site-packages/numpy/lib/function_base.py\u001b[0m in \u001b[0;36minterp\u001b[0;34m(x, xp, fp, left, right, period)\u001b[0m\n\u001b[1;32m   1421\u001b[0m         \u001b[0mfp\u001b[0m \u001b[0;34m=\u001b[0m \u001b[0mnp\u001b[0m\u001b[0;34m.\u001b[0m\u001b[0mconcatenate\u001b[0m\u001b[0;34m(\u001b[0m\u001b[0;34m(\u001b[0m\u001b[0mfp\u001b[0m\u001b[0;34m[\u001b[0m\u001b[0;34m-\u001b[0m\u001b[0;36m1\u001b[0m\u001b[0;34m:\u001b[0m\u001b[0;34m]\u001b[0m\u001b[0;34m,\u001b[0m \u001b[0mfp\u001b[0m\u001b[0;34m,\u001b[0m \u001b[0mfp\u001b[0m\u001b[0;34m[\u001b[0m\u001b[0;36m0\u001b[0m\u001b[0;34m:\u001b[0m\u001b[0;36m1\u001b[0m\u001b[0;34m]\u001b[0m\u001b[0;34m)\u001b[0m\u001b[0;34m)\u001b[0m\u001b[0;34m\u001b[0m\u001b[0;34m\u001b[0m\u001b[0m\n\u001b[1;32m   1422\u001b[0m \u001b[0;34m\u001b[0m\u001b[0m\n\u001b[0;32m-> 1423\u001b[0;31m     \u001b[0;32mreturn\u001b[0m \u001b[0minterp_func\u001b[0m\u001b[0;34m(\u001b[0m\u001b[0mx\u001b[0m\u001b[0;34m,\u001b[0m \u001b[0mxp\u001b[0m\u001b[0;34m,\u001b[0m \u001b[0mfp\u001b[0m\u001b[0;34m,\u001b[0m \u001b[0mleft\u001b[0m\u001b[0;34m,\u001b[0m \u001b[0mright\u001b[0m\u001b[0;34m)\u001b[0m\u001b[0;34m\u001b[0m\u001b[0;34m\u001b[0m\u001b[0m\n\u001b[0m\u001b[1;32m   1424\u001b[0m \u001b[0;34m\u001b[0m\u001b[0m\n\u001b[1;32m   1425\u001b[0m \u001b[0;34m\u001b[0m\u001b[0m\n",
      "\u001b[0;31mValueError\u001b[0m: object too deep for desired array"
     ]
    }
   ],
   "source": [
    "SNR = 10\n",
    "m0 = 1\n",
    "mu = 5\n",
    "sigma = 0.2\n",
    "n = 1024\n",
    "v_amb = 7.5\n",
    "N = 128\n",
    "\n",
    "[data, data_f, data_f_full, data_full, X_full, Theta_full] = DS_simulatorV2(SNR, m0, mu, sigma, n, v_amb, N)"
   ]
  },
  {
   "cell_type": "code",
   "execution_count": 155,
   "id": "automatic-command",
   "metadata": {},
   "outputs": [
    {
     "ename": "NameError",
     "evalue": "name 'idxn' is not defined",
     "output_type": "error",
     "traceback": [
      "\u001b[0;31m---------------------------------------------------------------------------\u001b[0m",
      "\u001b[0;31mNameError\u001b[0m                                 Traceback (most recent call last)",
      "\u001b[0;32m<ipython-input-155-e0e6e736d15b>\u001b[0m in \u001b[0;36m<module>\u001b[0;34m\u001b[0m\n\u001b[0;32m----> 1\u001b[0;31m \u001b[0mnp\u001b[0m\u001b[0;34m.\u001b[0m\u001b[0mmin\u001b[0m\u001b[0;34m(\u001b[0m\u001b[0midxn\u001b[0m\u001b[0;34m)\u001b[0m\u001b[0;34m\u001b[0m\u001b[0;34m\u001b[0m\u001b[0m\n\u001b[0m",
      "\u001b[0;31mNameError\u001b[0m: name 'idxn' is not defined"
     ]
    }
   ],
   "source": []
  },
  {
   "cell_type": "code",
   "execution_count": 72,
   "id": "middle-trademark",
   "metadata": {},
   "outputs": [
    {
     "data": {
      "text/plain": [
       "array([ 4, 12, 20, 28, 36, 44, 52, 60, 68])"
      ]
     },
     "execution_count": 72,
     "metadata": {},
     "output_type": "execute_result"
    }
   ],
   "source": [
    "b.astype(int)"
   ]
  },
  {
   "cell_type": "code",
   "execution_count": 22,
   "id": "diagnostic-contrast",
   "metadata": {},
   "outputs": [
    {
     "data": {
      "text/plain": [
       "array([0, 1, 2, 3, 4, 5, 6, 7, 8])"
      ]
     },
     "execution_count": 22,
     "metadata": {},
     "output_type": "execute_result"
    }
   ],
   "source": [
    "idx[0:-1]"
   ]
  },
  {
   "cell_type": "code",
   "execution_count": 27,
   "id": "amino-realtor",
   "metadata": {},
   "outputs": [
    {
     "data": {
      "text/plain": [
       "array([1, 2, 3, 4, 5, 6, 7, 8, 9])"
      ]
     },
     "execution_count": 27,
     "metadata": {},
     "output_type": "execute_result"
    }
   ],
   "source": [
    "idx[1:]"
   ]
  },
  {
   "cell_type": "code",
   "execution_count": null,
   "id": "separate-phase",
   "metadata": {},
   "outputs": [],
   "source": []
  }
 ],
 "metadata": {
  "kernelspec": {
   "display_name": "Python 3",
   "language": "python",
   "name": "python3"
  },
  "language_info": {
   "codemirror_mode": {
    "name": "ipython",
    "version": 3
   },
   "file_extension": ".py",
   "mimetype": "text/x-python",
   "name": "python",
   "nbconvert_exporter": "python",
   "pygments_lexer": "ipython3",
   "version": "3.9.1"
  }
 },
 "nbformat": 4,
 "nbformat_minor": 5
}
